{
  "nbformat": 4,
  "nbformat_minor": 0,
  "metadata": {
    "colab": {
      "provenance": []
    },
    "kernelspec": {
      "name": "python3",
      "display_name": "Python 3"
    },
    "language_info": {
      "name": "python"
    }
  },
  "cells": [
    {
      "cell_type": "markdown",
      "source": [
        "Instalar las librerias necesarias"
      ],
      "metadata": {
        "id": "vvk0aV41mzdq"
      }
    },
    {
      "cell_type": "code",
      "source": [
        "%pip install mysql-connector-python\n",
        "%pip install fastapi\n",
        "%pip install pyngrok\n",
        "%pip install uvicorn\n",
        "%pip install python-multipart"
      ],
      "metadata": {
        "colab": {
          "base_uri": "https://localhost:8080/"
        },
        "id": "lL4ySHY7Y_F0",
        "outputId": "180bec32-08f6-48fa-fb1e-e58bb8d7a135"
      },
      "execution_count": 3,
      "outputs": [
        {
          "output_type": "stream",
          "name": "stdout",
          "text": [
            "Collecting mysql-connector-python\n",
            "  Using cached mysql_connector_python-9.2.0-cp311-cp311-manylinux_2_28_x86_64.whl.metadata (6.0 kB)\n",
            "Using cached mysql_connector_python-9.2.0-cp311-cp311-manylinux_2_28_x86_64.whl (34.0 MB)\n",
            "Installing collected packages: mysql-connector-python\n",
            "Successfully installed mysql-connector-python-9.2.0\n",
            "Collecting fastapi\n",
            "  Downloading fastapi-0.115.8-py3-none-any.whl.metadata (27 kB)\n",
            "Collecting starlette<0.46.0,>=0.40.0 (from fastapi)\n",
            "  Downloading starlette-0.45.3-py3-none-any.whl.metadata (6.3 kB)\n",
            "Requirement already satisfied: pydantic!=1.8,!=1.8.1,!=2.0.0,!=2.0.1,!=2.1.0,<3.0.0,>=1.7.4 in /usr/local/lib/python3.11/dist-packages (from fastapi) (2.10.6)\n",
            "Requirement already satisfied: typing-extensions>=4.8.0 in /usr/local/lib/python3.11/dist-packages (from fastapi) (4.12.2)\n",
            "Requirement already satisfied: annotated-types>=0.6.0 in /usr/local/lib/python3.11/dist-packages (from pydantic!=1.8,!=1.8.1,!=2.0.0,!=2.0.1,!=2.1.0,<3.0.0,>=1.7.4->fastapi) (0.7.0)\n",
            "Requirement already satisfied: pydantic-core==2.27.2 in /usr/local/lib/python3.11/dist-packages (from pydantic!=1.8,!=1.8.1,!=2.0.0,!=2.0.1,!=2.1.0,<3.0.0,>=1.7.4->fastapi) (2.27.2)\n",
            "Requirement already satisfied: anyio<5,>=3.6.2 in /usr/local/lib/python3.11/dist-packages (from starlette<0.46.0,>=0.40.0->fastapi) (3.7.1)\n",
            "Requirement already satisfied: idna>=2.8 in /usr/local/lib/python3.11/dist-packages (from anyio<5,>=3.6.2->starlette<0.46.0,>=0.40.0->fastapi) (3.10)\n",
            "Requirement already satisfied: sniffio>=1.1 in /usr/local/lib/python3.11/dist-packages (from anyio<5,>=3.6.2->starlette<0.46.0,>=0.40.0->fastapi) (1.3.1)\n",
            "Downloading fastapi-0.115.8-py3-none-any.whl (94 kB)\n",
            "\u001b[2K   \u001b[90m━━━━━━━━━━━━━━━━━━━━━━━━━━━━━━━━━━━━━━━━\u001b[0m \u001b[32m94.8/94.8 kB\u001b[0m \u001b[31m8.2 MB/s\u001b[0m eta \u001b[36m0:00:00\u001b[0m\n",
            "\u001b[?25hDownloading starlette-0.45.3-py3-none-any.whl (71 kB)\n",
            "\u001b[2K   \u001b[90m━━━━━━━━━━━━━━━━━━━━━━━━━━━━━━━━━━━━━━━━\u001b[0m \u001b[32m71.5/71.5 kB\u001b[0m \u001b[31m5.8 MB/s\u001b[0m eta \u001b[36m0:00:00\u001b[0m\n",
            "\u001b[?25hInstalling collected packages: starlette, fastapi\n",
            "Successfully installed fastapi-0.115.8 starlette-0.45.3\n",
            "Collecting pyngrok\n",
            "  Downloading pyngrok-7.2.3-py3-none-any.whl.metadata (8.7 kB)\n",
            "Requirement already satisfied: PyYAML>=5.1 in /usr/local/lib/python3.11/dist-packages (from pyngrok) (6.0.2)\n",
            "Downloading pyngrok-7.2.3-py3-none-any.whl (23 kB)\n",
            "Installing collected packages: pyngrok\n",
            "Successfully installed pyngrok-7.2.3\n",
            "Collecting uvicorn\n",
            "  Downloading uvicorn-0.34.0-py3-none-any.whl.metadata (6.5 kB)\n",
            "Requirement already satisfied: click>=7.0 in /usr/local/lib/python3.11/dist-packages (from uvicorn) (8.1.8)\n",
            "Requirement already satisfied: h11>=0.8 in /usr/local/lib/python3.11/dist-packages (from uvicorn) (0.14.0)\n",
            "Downloading uvicorn-0.34.0-py3-none-any.whl (62 kB)\n",
            "\u001b[2K   \u001b[90m━━━━━━━━━━━━━━━━━━━━━━━━━━━━━━━━━━━━━━━━\u001b[0m \u001b[32m62.3/62.3 kB\u001b[0m \u001b[31m4.7 MB/s\u001b[0m eta \u001b[36m0:00:00\u001b[0m\n",
            "\u001b[?25hInstalling collected packages: uvicorn\n",
            "Successfully installed uvicorn-0.34.0\n",
            "Collecting python-multipart\n",
            "  Downloading python_multipart-0.0.20-py3-none-any.whl.metadata (1.8 kB)\n",
            "Downloading python_multipart-0.0.20-py3-none-any.whl (24 kB)\n",
            "Installing collected packages: python-multipart\n",
            "Successfully installed python-multipart-0.0.20\n"
          ]
        }
      ]
    },
    {
      "cell_type": "markdown",
      "source": [
        "Importar los modulos necesarios de las librerias que se instalaron."
      ],
      "metadata": {
        "id": "z_EDTqVHm3gC"
      }
    },
    {
      "cell_type": "code",
      "execution_count": 4,
      "metadata": {
        "id": "olG3Ao_NYjQb"
      },
      "outputs": [],
      "source": [
        "import pandas as pd\n",
        "import mysql.connector\n",
        "import nest_asyncio\n",
        "import uvicorn\n",
        "import io\n",
        "import logging\n",
        "from pyngrok import ngrok\n",
        "from fastapi import FastAPI, File, UploadFile, Form, HTTPException"
      ]
    },
    {
      "cell_type": "code",
      "source": [
        "!ngrok config add-authtoken 2tYc54ffpS0VN3DuNgup3ItwTem_2vgeRnWXzN8Tb7RMYsHvB"
      ],
      "metadata": {
        "colab": {
          "base_uri": "https://localhost:8080/"
        },
        "id": "k2Z68QNtzROk",
        "outputId": "ed5cef25-5d7e-4a58-da10-1a231b7cd698"
      },
      "execution_count": 5,
      "outputs": [
        {
          "output_type": "stream",
          "name": "stdout",
          "text": [
            "Authtoken saved to configuration file: /root/.config/ngrok/ngrok.yml\n"
          ]
        }
      ]
    },
    {
      "cell_type": "code",
      "source": [
        "# Funcion que se conecta a la base de datos y corre los comandos de creacion de tablas\n",
        "# con los parametros que se reciben mediante csv.\n",
        "def create_tables():\n",
        "  conn = mysql.connector.connect(**db_connection)\n",
        "  cursor = conn.cursor()\n",
        "  cursor.execute(\"CREATE TABLE jobs (id INT PRIMARY KEY, job VARCHAR(255));\")\n",
        "  cursor.execute(\"CREATE TABLE departments (id INT PRIMARY KEY, department VARCHAR(255));\")\n",
        "  cursor.execute(\"CREATE TABLE hired_employees (id INT PRIMARY KEY, name VARCHAR(255), datetime VARCHAR(255), department_id INT, job_id INT);\")\n",
        "  cursor.close()\n",
        "  conn.close()\n",
        "\n",
        "db_connection = {\n",
        "    \"database\": \"b6lzfmzs2xs2xqr2zf5r\",\n",
        "    \"user\": \"uatmmjtzox50q4hw\",\n",
        "    \"password\": \"aET1zCwQKBCwkBImyTaG\",\n",
        "    \"host\": \"b6lzfmzs2xs2xqr2zf5r-mysql.services.clever-cloud.com\",\n",
        "    \"port\": 3306\n",
        "}\n",
        "\n",
        "create_tables()\n"
      ],
      "metadata": {
        "id": "t_e5pMZMY3Cf"
      },
      "execution_count": null,
      "outputs": []
    },
    {
      "cell_type": "code",
      "source": [
        "# Se llenan las tablas con la informacion que se recibe de los csv y se conectan\n",
        "# a la base de datos para escribir en las tablas.\n",
        "def fill_tables(csv_df, table):\n",
        "  conn = mysql.connector.connect(**db_connection)\n",
        "  cursor = conn.cursor()\n",
        "  df = pd.read_csv(csv_df)\n",
        "  for _, row in df.iterrows():\n",
        "    row_str = ','.join(['%s'] * len(row))\n",
        "    cursor.execute(f\"INSERT INTO {table} VALUES ({row_str});\", tuple(row))\n",
        "  cursor.close()\n",
        "  conn.close()\n",
        "\n",
        "# Se leen los archivos csv y se corre la funcion con el parametro y con el nombre\n",
        "# de la tabla.\n",
        "jobs = '/content/jobs.csv'\n",
        "departments = '/content/departments.csv'\n",
        "hired_employees = '/content/hired_employees.csv'\n",
        "fill_tables(jobs, 'jobs')\n",
        "fill_tables(departments, 'departments')\n",
        "fill_tables(hired_employees, 'hired_employees')"
      ],
      "metadata": {
        "id": "5Xbcivy_DCYO"
      },
      "execution_count": 6,
      "outputs": []
    },
    {
      "cell_type": "code",
      "source": [
        "# Se crea la API con FastAPI que permite hacer un post para insertar la data. La\n",
        "# data que se puede insertar se realiza mediante un CSV que se lee con el metodo\n",
        "# post y que transforma para hacer la insercion en la tabla.\n",
        "app = FastAPI()\n",
        "\n",
        "@app.post(\"/insert_data/\")\n",
        "async def insert_data(csv: UploadFile = File(...)):\n",
        "  conn = mysql.connector.connect(**db_connection)\n",
        "  cursor = conn.cursor()\n",
        "  print(csv.filename)\n",
        "  contents = await csv.read()\n",
        "\n",
        "  df = pd.read_csv(io.StringIO(contents.decode(\"utf-8\",errors=\"ignore\")))\n",
        "\n",
        "  for _, row in df.iterrows():\n",
        "    row_str = ','.join(map(str, row.values))\n",
        "    cursor.execute(f\"INSERT INTO {csv.filename} VALUES ({row_str});\")\n",
        "  return \"Exitoso\"\n",
        "\n",
        "if __name__ == \"__main__\":\n",
        "  nest_asyncio.apply()\n",
        "  ngrok.set_auth_token(\"2tYc54ffpS0VN3DuNgup3ItwTem_2vgeRnWXzN8Tb7RMYsHvB\")\n",
        "  print(ngrok.connect(8000).public_url)\n",
        "  uvicorn.run(app, host=\"0.0.0.0\",port=8000)"
      ],
      "metadata": {
        "id": "z2q2G7yysL1b"
      },
      "execution_count": null,
      "outputs": []
    }
  ]
}